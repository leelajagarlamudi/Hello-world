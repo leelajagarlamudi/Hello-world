{
  "nbformat": 4,
  "nbformat_minor": 0,
  "metadata": {
    "colab": {
      "name": "Copy of Artificial Neural Network",
      "provenance": [],
      "collapsed_sections": [],
      "include_colab_link": true
    },
    "kernelspec": {
      "name": "python3",
      "display_name": "Python 3"
    }
  },
  "cells": [
    {
      "cell_type": "markdown",
      "metadata": {
        "id": "view-in-github",
        "colab_type": "text"
      },
      "source": [
        "<a href=\"https://colab.research.google.com/github/leelajagarlamudi/Hello-world/blob/master/PowerDataSet_Artificial_Neural_Network.ipynb\" target=\"_parent\"><img src=\"https://colab.research.google.com/assets/colab-badge.svg\" alt=\"Open In Colab\"/></a>"
      ]
    },
    {
      "cell_type": "markdown",
      "metadata": {
        "id": "3cbb7fRy-eyr"
      },
      "source": [
        "# Artificial Neural Network"
      ]
    },
    {
      "cell_type": "markdown",
      "metadata": {
        "id": "8sNDnxE2-pwE"
      },
      "source": [
        "### Importing the libraries"
      ]
    },
    {
      "cell_type": "code",
      "metadata": {
        "id": "lxChR1Rk-umf"
      },
      "source": [
        "import numpy as np\n",
        "import pandas as pd\n",
        "import tensorflow as tf"
      ],
      "execution_count": null,
      "outputs": []
    },
    {
      "cell_type": "code",
      "metadata": {
        "id": "uBTqR3nacj0e",
        "colab": {
          "base_uri": "https://localhost:8080/",
          "height": 37
        },
        "outputId": "ef3d01c9-f956-48b4-cae6-29f806eaf18f"
      },
      "source": [
        "tf.__version__"
      ],
      "execution_count": null,
      "outputs": [
        {
          "output_type": "execute_result",
          "data": {
            "application/vnd.google.colaboratory.intrinsic+json": {
              "type": "string"
            },
            "text/plain": [
              "'2.4.1'"
            ]
          },
          "metadata": {
            "tags": []
          },
          "execution_count": 2
        }
      ]
    },
    {
      "cell_type": "markdown",
      "metadata": {
        "id": "AG3FQEch-yuA"
      },
      "source": [
        "## Part 1 - Data Preprocessing"
      ]
    },
    {
      "cell_type": "markdown",
      "metadata": {
        "id": "-4zq8Mza_D9O"
      },
      "source": [
        "### Importing the dataset"
      ]
    },
    {
      "cell_type": "code",
      "metadata": {
        "id": "ChUVYwkvVtqz"
      },
      "source": [
        "dataset = pd.read_excel('Folds5x2_pp.xlsx')\n",
        "X = dataset.iloc[:,:-1].values\n",
        "y = dataset.iloc[:,-1].values"
      ],
      "execution_count": 12,
      "outputs": []
    },
    {
      "cell_type": "code",
      "metadata": {
        "colab": {
          "base_uri": "https://localhost:8080/"
        },
        "id": "XZZsdkhyXo8x",
        "outputId": "bd88fb3b-5398-47fd-c485-90de5499e809"
      },
      "source": [
        "print(X)"
      ],
      "execution_count": 13,
      "outputs": [
        {
          "output_type": "stream",
          "text": [
            "[[  14.96   41.76 1024.07   73.17]\n",
            " [  25.18   62.96 1020.04   59.08]\n",
            " [   5.11   39.4  1012.16   92.14]\n",
            " ...\n",
            " [  31.32   74.33 1012.92   36.48]\n",
            " [  24.48   69.45 1013.86   62.39]\n",
            " [  21.6    62.52 1017.23   67.87]]\n"
          ],
          "name": "stdout"
        }
      ]
    },
    {
      "cell_type": "code",
      "metadata": {
        "colab": {
          "base_uri": "https://localhost:8080/"
        },
        "id": "vTzubPE2X13H",
        "outputId": "253223a1-a108-4f71-98c7-94cd97786b0d"
      },
      "source": [
        "print(y)"
      ],
      "execution_count": 9,
      "outputs": [
        {
          "output_type": "stream",
          "text": [
            "[463.26 444.37 488.56 ... 429.57 435.74 453.28]\n"
          ],
          "name": "stdout"
        }
      ]
    },
    {
      "cell_type": "markdown",
      "metadata": {
        "id": "VC6omXel_Up0"
      },
      "source": [
        "### Splitting the dataset into the Training set and Test set"
      ]
    },
    {
      "cell_type": "code",
      "metadata": {
        "id": "ipk-Up-gYV3Q"
      },
      "source": [
        "from sklearn.model_selection import train_test_split\n",
        "X_train, X_test, y_train, y_test = train_test_split(X, y, test_size = 0.2, random_state = 0)"
      ],
      "execution_count": 14,
      "outputs": []
    },
    {
      "cell_type": "markdown",
      "metadata": {
        "id": "_mSLlAT9_eyI"
      },
      "source": [
        "## Part 2 - Building the ANN"
      ]
    },
    {
      "cell_type": "markdown",
      "metadata": {
        "id": "CsBULd_f_wLY"
      },
      "source": [
        "### Initializing the ANN"
      ]
    },
    {
      "cell_type": "code",
      "metadata": {
        "id": "J6Hd97Ls__Nz"
      },
      "source": [
        "ann = tf.keras.models.Sequential()"
      ],
      "execution_count": 15,
      "outputs": []
    },
    {
      "cell_type": "markdown",
      "metadata": {
        "id": "iitAFJS_ABUn"
      },
      "source": [
        "### Adding the input layer and the first hidden layer"
      ]
    },
    {
      "cell_type": "code",
      "metadata": {
        "id": "ksO_Vv40AHix"
      },
      "source": [
        "ann.add(tf.keras.layers.Dense(units=6, activation='relu'))"
      ],
      "execution_count": 16,
      "outputs": []
    },
    {
      "cell_type": "markdown",
      "metadata": {
        "id": "-lb4kK_wAKbs"
      },
      "source": [
        "### Adding the second hidden layer"
      ]
    },
    {
      "cell_type": "code",
      "metadata": {
        "id": "c2357OqEAQOQ"
      },
      "source": [
        "ann.add(tf.keras.layers.Dense(units=6, activation='relu'))"
      ],
      "execution_count": 17,
      "outputs": []
    },
    {
      "cell_type": "markdown",
      "metadata": {
        "id": "jwMOmKb3AdBY"
      },
      "source": [
        "### Adding the output layer"
      ]
    },
    {
      "cell_type": "code",
      "metadata": {
        "id": "YFATpzsUAkLL"
      },
      "source": [
        "ann.add(tf.keras.layers.Dense(units=1))"
      ],
      "execution_count": 18,
      "outputs": []
    },
    {
      "cell_type": "markdown",
      "metadata": {
        "id": "fq7e4fF6A1yy"
      },
      "source": [
        "## Part 3 - Training the ANN"
      ]
    },
    {
      "cell_type": "markdown",
      "metadata": {
        "id": "qDeylAs2An25"
      },
      "source": [
        "### Compiling the ANN"
      ]
    },
    {
      "cell_type": "code",
      "metadata": {
        "id": "pesgbWlCAtB4"
      },
      "source": [
        "ann.compile(optimizer = 'adam', loss = 'mean_squared_error')"
      ],
      "execution_count": 19,
      "outputs": []
    },
    {
      "cell_type": "markdown",
      "metadata": {
        "id": "YjVuiybYOo7r"
      },
      "source": [
        "### Training the ANN model on the Training set"
      ]
    },
    {
      "cell_type": "code",
      "metadata": {
        "id": "c_vV-tiiA5zn",
        "colab": {
          "base_uri": "https://localhost:8080/"
        },
        "outputId": "06740fde-3e4d-4718-c75e-76ffd20a7875"
      },
      "source": [
        "ann.fit(X_train, y_train, batch_size = 32, epochs = 100)"
      ],
      "execution_count": 20,
      "outputs": [
        {
          "output_type": "stream",
          "text": [
            "Epoch 1/100\n",
            "240/240 [==============================] - 1s 1ms/step - loss: 247895.3687\n",
            "Epoch 2/100\n",
            "240/240 [==============================] - 0s 1ms/step - loss: 605.4144\n",
            "Epoch 3/100\n",
            "240/240 [==============================] - 0s 1ms/step - loss: 406.0384\n",
            "Epoch 4/100\n",
            "240/240 [==============================] - 0s 1ms/step - loss: 404.9534\n",
            "Epoch 5/100\n",
            "240/240 [==============================] - 0s 1ms/step - loss: 403.3066\n",
            "Epoch 6/100\n",
            "240/240 [==============================] - 0s 1ms/step - loss: 393.2701\n",
            "Epoch 7/100\n",
            "240/240 [==============================] - 0s 1ms/step - loss: 386.9681\n",
            "Epoch 8/100\n",
            "240/240 [==============================] - 0s 1ms/step - loss: 389.7200\n",
            "Epoch 9/100\n",
            "240/240 [==============================] - 0s 1ms/step - loss: 371.2498\n",
            "Epoch 10/100\n",
            "240/240 [==============================] - 0s 1ms/step - loss: 354.2920\n",
            "Epoch 11/100\n",
            "240/240 [==============================] - 0s 1ms/step - loss: 346.0374\n",
            "Epoch 12/100\n",
            "240/240 [==============================] - 0s 1ms/step - loss: 337.4663\n",
            "Epoch 13/100\n",
            "240/240 [==============================] - 0s 1ms/step - loss: 325.3797\n",
            "Epoch 14/100\n",
            "240/240 [==============================] - 0s 1ms/step - loss: 307.7540\n",
            "Epoch 15/100\n",
            "240/240 [==============================] - 0s 1ms/step - loss: 283.1307\n",
            "Epoch 16/100\n",
            "240/240 [==============================] - 0s 1ms/step - loss: 273.0426\n",
            "Epoch 17/100\n",
            "240/240 [==============================] - 0s 1ms/step - loss: 254.9219\n",
            "Epoch 18/100\n",
            "240/240 [==============================] - 0s 1ms/step - loss: 230.6861\n",
            "Epoch 19/100\n",
            "240/240 [==============================] - 0s 1ms/step - loss: 216.3365\n",
            "Epoch 20/100\n",
            "240/240 [==============================] - 0s 1ms/step - loss: 189.4766\n",
            "Epoch 21/100\n",
            "240/240 [==============================] - 0s 1ms/step - loss: 173.2681\n",
            "Epoch 22/100\n",
            "240/240 [==============================] - 0s 1ms/step - loss: 155.9927\n",
            "Epoch 23/100\n",
            "240/240 [==============================] - 0s 1ms/step - loss: 131.7458\n",
            "Epoch 24/100\n",
            "240/240 [==============================] - 0s 1ms/step - loss: 113.6420\n",
            "Epoch 25/100\n",
            "240/240 [==============================] - 0s 1ms/step - loss: 95.3379\n",
            "Epoch 26/100\n",
            "240/240 [==============================] - 0s 1ms/step - loss: 83.6893\n",
            "Epoch 27/100\n",
            "240/240 [==============================] - 0s 1ms/step - loss: 71.9431\n",
            "Epoch 28/100\n",
            "240/240 [==============================] - 0s 1ms/step - loss: 63.8642\n",
            "Epoch 29/100\n",
            "240/240 [==============================] - 0s 1ms/step - loss: 55.9364\n",
            "Epoch 30/100\n",
            "240/240 [==============================] - 0s 1ms/step - loss: 49.1417\n",
            "Epoch 31/100\n",
            "240/240 [==============================] - 0s 1ms/step - loss: 45.3836\n",
            "Epoch 32/100\n",
            "240/240 [==============================] - 0s 1ms/step - loss: 44.2498\n",
            "Epoch 33/100\n",
            "240/240 [==============================] - 0s 1ms/step - loss: 42.0417\n",
            "Epoch 34/100\n",
            "240/240 [==============================] - 0s 1ms/step - loss: 40.7203\n",
            "Epoch 35/100\n",
            "240/240 [==============================] - 0s 1ms/step - loss: 41.2135\n",
            "Epoch 36/100\n",
            "240/240 [==============================] - 0s 1ms/step - loss: 38.1740\n",
            "Epoch 37/100\n",
            "240/240 [==============================] - 0s 1ms/step - loss: 39.1148\n",
            "Epoch 38/100\n",
            "240/240 [==============================] - 0s 1ms/step - loss: 36.3614\n",
            "Epoch 39/100\n",
            "240/240 [==============================] - 0s 1ms/step - loss: 36.0568\n",
            "Epoch 40/100\n",
            "240/240 [==============================] - 0s 1ms/step - loss: 36.8787\n",
            "Epoch 41/100\n",
            "240/240 [==============================] - 0s 1ms/step - loss: 34.6015\n",
            "Epoch 42/100\n",
            "240/240 [==============================] - 0s 1ms/step - loss: 35.3171\n",
            "Epoch 43/100\n",
            "240/240 [==============================] - 0s 1ms/step - loss: 33.3805\n",
            "Epoch 44/100\n",
            "240/240 [==============================] - 0s 1ms/step - loss: 33.2459\n",
            "Epoch 45/100\n",
            "240/240 [==============================] - 0s 1ms/step - loss: 32.4476\n",
            "Epoch 46/100\n",
            "240/240 [==============================] - 0s 1ms/step - loss: 32.6035\n",
            "Epoch 47/100\n",
            "240/240 [==============================] - 0s 1ms/step - loss: 31.6394\n",
            "Epoch 48/100\n",
            "240/240 [==============================] - 0s 1ms/step - loss: 31.4828\n",
            "Epoch 49/100\n",
            "240/240 [==============================] - 0s 1ms/step - loss: 31.2711\n",
            "Epoch 50/100\n",
            "240/240 [==============================] - 0s 1ms/step - loss: 31.0819\n",
            "Epoch 51/100\n",
            "240/240 [==============================] - 0s 1ms/step - loss: 30.6338\n",
            "Epoch 52/100\n",
            "240/240 [==============================] - 0s 1ms/step - loss: 29.7023\n",
            "Epoch 53/100\n",
            "240/240 [==============================] - 0s 1ms/step - loss: 29.1838\n",
            "Epoch 54/100\n",
            "240/240 [==============================] - 0s 1ms/step - loss: 31.1367\n",
            "Epoch 55/100\n",
            "240/240 [==============================] - 0s 1ms/step - loss: 30.8818\n",
            "Epoch 56/100\n",
            "240/240 [==============================] - 0s 1ms/step - loss: 29.4475\n",
            "Epoch 57/100\n",
            "240/240 [==============================] - 0s 1ms/step - loss: 29.6635\n",
            "Epoch 58/100\n",
            "240/240 [==============================] - 0s 1ms/step - loss: 29.2021\n",
            "Epoch 59/100\n",
            "240/240 [==============================] - 0s 1ms/step - loss: 28.5700\n",
            "Epoch 60/100\n",
            "240/240 [==============================] - 0s 1ms/step - loss: 29.7239\n",
            "Epoch 61/100\n",
            "240/240 [==============================] - 0s 1ms/step - loss: 27.0132\n",
            "Epoch 62/100\n",
            "240/240 [==============================] - 0s 1ms/step - loss: 29.4613\n",
            "Epoch 63/100\n",
            "240/240 [==============================] - 0s 1ms/step - loss: 28.2784\n",
            "Epoch 64/100\n",
            "240/240 [==============================] - 0s 1ms/step - loss: 27.2026\n",
            "Epoch 65/100\n",
            "240/240 [==============================] - 0s 1ms/step - loss: 28.8081\n",
            "Epoch 66/100\n",
            "240/240 [==============================] - 0s 1ms/step - loss: 27.4875\n",
            "Epoch 67/100\n",
            "240/240 [==============================] - 0s 1ms/step - loss: 27.5996\n",
            "Epoch 68/100\n",
            "240/240 [==============================] - 0s 1ms/step - loss: 27.9289\n",
            "Epoch 69/100\n",
            "240/240 [==============================] - 0s 1ms/step - loss: 28.4929\n",
            "Epoch 70/100\n",
            "240/240 [==============================] - 0s 1ms/step - loss: 27.5557\n",
            "Epoch 71/100\n",
            "240/240 [==============================] - 0s 1ms/step - loss: 29.2704\n",
            "Epoch 72/100\n",
            "240/240 [==============================] - 0s 1ms/step - loss: 26.6373\n",
            "Epoch 73/100\n",
            "240/240 [==============================] - 0s 1ms/step - loss: 28.8326\n",
            "Epoch 74/100\n",
            "240/240 [==============================] - 0s 1ms/step - loss: 26.5265\n",
            "Epoch 75/100\n",
            "240/240 [==============================] - 0s 1ms/step - loss: 27.8884\n",
            "Epoch 76/100\n",
            "240/240 [==============================] - 0s 1ms/step - loss: 27.7717\n",
            "Epoch 77/100\n",
            "240/240 [==============================] - 0s 1ms/step - loss: 28.2810\n",
            "Epoch 78/100\n",
            "240/240 [==============================] - 0s 1ms/step - loss: 26.8440\n",
            "Epoch 79/100\n",
            "240/240 [==============================] - 0s 1ms/step - loss: 27.8978\n",
            "Epoch 80/100\n",
            "240/240 [==============================] - 0s 1ms/step - loss: 26.5455\n",
            "Epoch 81/100\n",
            "240/240 [==============================] - 0s 1ms/step - loss: 29.9323\n",
            "Epoch 82/100\n",
            "240/240 [==============================] - 0s 1ms/step - loss: 26.7820\n",
            "Epoch 83/100\n",
            "240/240 [==============================] - 0s 1ms/step - loss: 26.7142\n",
            "Epoch 84/100\n",
            "240/240 [==============================] - 0s 1ms/step - loss: 26.6151\n",
            "Epoch 85/100\n",
            "240/240 [==============================] - 0s 1ms/step - loss: 26.2893\n",
            "Epoch 86/100\n",
            "240/240 [==============================] - 0s 1ms/step - loss: 26.6106\n",
            "Epoch 87/100\n",
            "240/240 [==============================] - 0s 1ms/step - loss: 28.0691\n",
            "Epoch 88/100\n",
            "240/240 [==============================] - 0s 1ms/step - loss: 26.7021\n",
            "Epoch 89/100\n",
            "240/240 [==============================] - 0s 1ms/step - loss: 28.2958\n",
            "Epoch 90/100\n",
            "240/240 [==============================] - 0s 1ms/step - loss: 25.7054\n",
            "Epoch 91/100\n",
            "240/240 [==============================] - 0s 1ms/step - loss: 26.5363\n",
            "Epoch 92/100\n",
            "240/240 [==============================] - 0s 1ms/step - loss: 27.1395\n",
            "Epoch 93/100\n",
            "240/240 [==============================] - 0s 1ms/step - loss: 27.1180\n",
            "Epoch 94/100\n",
            "240/240 [==============================] - 0s 1ms/step - loss: 27.3657\n",
            "Epoch 95/100\n",
            "240/240 [==============================] - 0s 1ms/step - loss: 26.6559\n",
            "Epoch 96/100\n",
            "240/240 [==============================] - 0s 1ms/step - loss: 27.3418\n",
            "Epoch 97/100\n",
            "240/240 [==============================] - 0s 1ms/step - loss: 26.7747\n",
            "Epoch 98/100\n",
            "240/240 [==============================] - 0s 1ms/step - loss: 26.7249\n",
            "Epoch 99/100\n",
            "240/240 [==============================] - 0s 1ms/step - loss: 26.6877\n",
            "Epoch 100/100\n",
            "240/240 [==============================] - 0s 1ms/step - loss: 28.0689\n"
          ],
          "name": "stdout"
        },
        {
          "output_type": "execute_result",
          "data": {
            "text/plain": [
              "<tensorflow.python.keras.callbacks.History at 0x7f6287d2d4d0>"
            ]
          },
          "metadata": {
            "tags": []
          },
          "execution_count": 20
        }
      ]
    },
    {
      "cell_type": "markdown",
      "metadata": {
        "id": "0H0zKKNEBLD5"
      },
      "source": [
        "### Predicting the results of the Test set"
      ]
    },
    {
      "cell_type": "code",
      "metadata": {
        "id": "IA0yApEmBG1X",
        "colab": {
          "base_uri": "https://localhost:8080/"
        },
        "outputId": "8d98844a-9c2c-44aa-dfd8-9c412f05cd76"
      },
      "source": [
        "y_pred = ann.predict(X_test)\n",
        "np.set_printoptions(precision=2)\n",
        "print(np.concatenate((y_pred.reshape(len(y_pred),1), y_test.reshape(len(y_test),1)),1))"
      ],
      "execution_count": 22,
      "outputs": [
        {
          "output_type": "stream",
          "text": [
            "[[430.91 431.23]\n",
            " [461.98 460.01]\n",
            " [465.48 461.14]\n",
            " ...\n",
            " [472.68 473.26]\n",
            " [439.57 438.  ]\n",
            " [458.73 463.28]]\n"
          ],
          "name": "stdout"
        }
      ]
    }
  ]
}